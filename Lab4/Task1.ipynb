{
 "cells": [
  {
   "metadata": {},
   "cell_type": "markdown",
   "source": [
    "**Task 1** - Generate a dataset of 1000 heights from a normal distribution with a mean of 170 cm and a standard deviation of 10 cm\n",
    "\n",
    "Use NumPy to generate a dataset of 1000 heights from a normal distribution with a\n",
    "mean of 170 cm and a standard deviation of 10 cm. The function should be named\n",
    "generate_height_data(size=1000, mean=170, std_dev=10)."
   ],
   "id": "866c672fffce8e27"
  },
  {
   "metadata": {
    "ExecuteTime": {
     "end_time": "2024-12-11T12:55:29.678090Z",
     "start_time": "2024-12-11T12:55:29.669109Z"
    }
   },
   "cell_type": "code",
   "outputs": [
    {
     "name": "stdout",
     "output_type": "stream",
     "text": [
      "[174.31487231 167.70575738 177.19749168 171.60899206 174.65900692\n",
      " 159.61587665 177.97655729 158.44133547 174.03283609 169.65631834]\n"
     ]
    }
   ],
   "execution_count": 2,
   "source": [
    "import numpy as np\n",
    "\n",
    "def generate_height_data(size=1000, mean=170, std_dev=10):\n",
    "    \"\"\"\n",
    "    Generates a dataset of heights from a normal distribution.\n",
    "\n",
    "    Parameters:\n",
    "    - size (int): The number of data points to generate. Default is 1000.\n",
    "    - mean (float): The mean of the normal distribution. Default is 170.\n",
    "    - std_dev (float): The standard deviation of the normal distribution. Default is 10.\n",
    "\n",
    "    Returns:\n",
    "    - np.ndarray: Array of generated heights.\n",
    "    \"\"\"\n",
    "    return np.random.normal(loc=mean, scale=std_dev, size=size)\n",
    "\n"
   ],
   "id": "f74a7602a757220e"
  },
  {
   "metadata": {},
   "cell_type": "markdown",
   "source": "*Results:*",
   "id": "d618ab69c77d1352"
  },
  {
   "metadata": {
    "ExecuteTime": {
     "end_time": "2024-12-11T12:56:31.883532Z",
     "start_time": "2024-12-11T12:56:31.878048Z"
    }
   },
   "cell_type": "code",
   "source": [
    "data = generate_height_data()\n",
    "print(data[:10])  # Print the first 10 generated heights"
   ],
   "id": "75b2821e3a530210",
   "outputs": [
    {
     "name": "stdout",
     "output_type": "stream",
     "text": [
      "[162.07011949 176.03385039 165.74697486 174.54976489 175.62210825\n",
      " 171.15244721 165.27740914 157.519603   184.73264588 174.3009681 ]\n"
     ]
    }
   ],
   "execution_count": 3
  },
  {
   "metadata": {},
   "cell_type": "markdown",
   "source": [
    "**Task 2** *Calculate and print the mean, median, and standard deviation of the generated\n",
    "dataset using created function descriptive_statistics(height_data).\n"
   ],
   "id": "6448355069c8adc5"
  },
  {
   "metadata": {},
   "cell_type": "code",
   "outputs": [],
   "execution_count": null,
   "source": "def descriptive_statistics(height_data):\n",
   "id": "197177b040c51182"
  }
 ],
 "metadata": {
  "kernelspec": {
   "display_name": "Python 3",
   "language": "python",
   "name": "python3"
  },
  "language_info": {
   "codemirror_mode": {
    "name": "ipython",
    "version": 2
   },
   "file_extension": ".py",
   "mimetype": "text/x-python",
   "name": "python",
   "nbconvert_exporter": "python",
   "pygments_lexer": "ipython2",
   "version": "2.7.6"
  }
 },
 "nbformat": 4,
 "nbformat_minor": 5
}
