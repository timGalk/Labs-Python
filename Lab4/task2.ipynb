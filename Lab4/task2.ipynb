{
 "cells": [
  {
   "metadata": {},
   "cell_type": "markdown",
   "source": [
    "# Lab 4. Report\n",
    "Done by Tsimur Halkin,\n",
    "Medical Informatics,\n",
    "Politechnika Wrocławska"
   ]
  },
  {
   "metadata": {},
   "cell_type": "markdown",
   "source": [
    "**Answer the question of whether, according to the analysed dataset, more women or\n",
    "men suffer from heart diseases. By what percentage?**\n",
    "\n",
    "In order to answer to the question let's analyse the *Resting electrocardiographic results* column for both sexes. Acording to the description: everyone who have value differ than 0 can be considered as a persons  with heart diseases"
   ]
  },
  {
   "cell_type": "code",
   "metadata": {
    "ExecuteTime": {
     "end_time": "2024-12-14T18:04:51.429431Z",
     "start_time": "2024-12-14T18:04:51.409813Z"
    }
   },
   "source": [
    "import pandas as pd\n",
    "import matplotlib.pyplot as plt\n",
    "# import seaborn as sns\n",
    "\n",
    "# Load the dataset\n",
    "file_path = 'heart_disease_dataset.csv'  # Ensure the file path is correct\n",
    "data = pd.read_csv(file_path)\n",
    "men_with_disease = data[(data[\"Sex\"] == \"male\") & (data[\"Resting electrocardiographic results\"] > 0)].shape [0]\n",
    "\n",
    "women_with_disease = data[(data[\"Sex\"] == \"female\") & (data[\"Resting electrocardiographic results\"] > 0)].shape [0]\n",
    "total_with_desease = men_with_disease + women_with_disease\n",
    "\n",
    "percentage_difference = abs(men_with_disease - women_with_disease) /total_with_desease  * 100\n",
    "gender_more_affected = \"men\" if men_with_disease > women_with_disease else \"women\"\n",
    "print(f\"More {gender_more_affected} suffer from heart disease by {percentage_difference:.2f}%.\")"
   ],
   "outputs": [
    {
     "name": "stdout",
     "output_type": "stream",
     "text": [
      "More men suffer from heart disease by 36.36%.\n"
     ]
    }
   ],
   "execution_count": 2
  },
  {
   "metadata": {},
   "cell_type": "markdown",
   "source": [
    "### Conclusion\n",
    "\n",
    "We can see that the men are more affected by heart diseases than the women by 36.36%"
   ]
  },
  {
   "metadata": {},
   "cell_type": "markdown",
   "source": [
    "## Task 2\n",
    "**Compare the average value of serum cholesterol separately for the group of women\n",
    "and the group of men depending on the presence of heart disease.**\n",
    "\n",
    "On the base of the provided data we can consider the following groups of people:\n",
    "- healthy people (with normal ECG results, value = 0 in the dataset)\n",
    "- people with suspicion of myocardial ischemia (with abnormal ECG results, value = 1 in the dataset)\n",
    "- people with presence of a distant abnormality in the conduction of electrical impulses in the heart"
   ]
  },
  {
   "metadata": {
    "ExecuteTime": {
     "end_time": "2024-12-14T18:33:28.562618Z",
     "start_time": "2024-12-14T18:33:28.548023Z"
    }
   },
   "cell_type": "code",
   "source": [
    "#healthy women\n",
    "healthy_women = data[(data[\"Sex\"] == \"female\") & (data[\"Resting electrocardiographic results\"] == 0)]\n",
    "average_healthy_women = healthy_women[\"Serum cholesterol in mg/dl\"].mean()\n",
    "# women with suspicion of myocardial ischemia\n",
    "suspicious_women = data[(data[\"Sex\"] == \"female\") & (data[\"Resting electrocardiographic results\"] == 1)]\n",
    "average_suspicious_women = suspicious_women[\"Serum cholesterol in mg/dl\"].mean()\n",
    "# women with presence of a distant abnormality in the conduction of electrical impulses in the heart\n",
    "abnormal_women = data[(data[\"Sex\"] == \"female\") & (data[\"Resting electrocardiographic results\"] == 2)]\n",
    "average_abnormal_women = abnormal_women[\"Serum cholesterol in mg/dl\"].mean()\n",
    "\n",
    "print(f\"Average serum cholesterol for healthy women: {average_healthy_women:.2f} mg/dl\")\n",
    "print(f\"Average serum cholesterol for women with suspicion of myocardial ischemia: {average_suspicious_women:.2f} mg/dl\")\n",
    "print(f\"Average serum cholesterol for women with presence of a distant abnormality in the conduction of electrical impulses in the heart: {average_abnormal_women:.2f} mg/dl\")"
   ],
   "outputs": [
    {
     "name": "stdout",
     "output_type": "stream",
     "text": [
      "Average serum cholesterol for healthy women: 281.92 mg/dl\n",
      "Average serum cholesterol for women with suspicion of myocardial ischemia: 243.68 mg/dl\n",
      "Average serum cholesterol for women with presence of a distant abnormality in the conduction of electrical impulses in the heart: 247.18 mg/dl\n"
     ]
    }
   ],
   "execution_count": 10
  },
  {
   "metadata": {
    "ExecuteTime": {
     "end_time": "2024-12-14T18:33:21.810461Z",
     "start_time": "2024-12-14T18:33:21.797908Z"
    }
   },
   "cell_type": "code",
   "source": [
    "# serum cholesterol separately for healthy men\n",
    "healthy_men = data[(data[\"Sex\"] == \"male\") & (data[\"Resting electrocardiographic results\"] == 0)]\n",
    "average_healthy_men = healthy_men[\"Serum cholesterol in mg/dl\"].mean()\n",
    "# serum cholesterol separately for men with suspicion of myocardial ischemia\n",
    "suspicious_men = data[(data[\"Sex\"] == \"male\") & (data[\"Resting electrocardiographic results\"] == 1 )]\n",
    "average_suspicious_men = suspicious_men[\"Serum cholesterol in mg/dl\"].mean()\n",
    "# serum cholesterol separately for men with presence of a distant abnormality in the conduction of electrical impulses in the heart\n",
    "abnormal_men = data[(data[\"Sex\"] == \"male\") & (data[\"Resting electrocardiographic results\"] == 2)]\n",
    "average_abnormal_men = abnormal_men[\"Serum cholesterol in mg/dl\"].mean()\n",
    "print(f\"Average serum cholesterol for healthy men: {average_healthy_men:.2f} mg/dl\")\n",
    "print(f\"Average serum cholesterol for men with suspicion of myocardial ischemia: {average_suspicious_men:.2f} mg/dl\")\n",
    "print(f\"Average serum cholesterol for men with presence of a distant abnormality in the conduction of electrical impulses in the heart: {average_abnormal_men:.2f} mg/dl\")\n",
    "\n",
    "\n"
   ],
   "outputs": [
    {
     "name": "stdout",
     "output_type": "stream",
     "text": [
      "Average serum cholesterol for healthy men: 243.84 mg/dl\n",
      "Average serum cholesterol for men with suspicion of myocardial ischemia: 233.78 mg/dl\n",
      "Average serum cholesterol for men with presence of a distant abnormality in the conduction of electrical impulses in the heart: 318.00 mg/dl\n"
     ]
    }
   ],
   "execution_count": 9
  },
  {
   "metadata": {},
   "cell_type": "markdown",
   "source": [
    "## Task 3\n",
    "Draw a histogram of people with heart diseases. In which age range are the most\n",
    "affected individuals?"
   ]
  },
  {
   "metadata": {
    "ExecuteTime": {
     "end_time": "2024-12-14T18:35:48.022743Z",
     "start_time": "2024-12-14T18:35:47.782084Z"
    }
   },
   "cell_type": "code",
   "source": [
    "people_with_disease = data[data[\"Resting electrocardiographic results\"] > 0]\n",
    "plt.hist(people_with_disease[\"Age\"], bins=20, edgecolor='black', alpha=0.7)\n",
    "plt.xlabel(\"Age\")\n",
    "plt.ylabel(\"Frequency\")\n",
    "plt.title(\"Histogram of People with Heart Disease\")\n",
    "plt.show()"
   ],
   "outputs": [
    {
     "data": {
      "text/plain": [
       "<Figure size 640x480 with 1 Axes>"
      ],
      "image/png": "[encoded data removed]"
     },
     "metadata": {},
     "output_type": "display_data"
    }
   ],
   "execution_count": 11
  },
  {
   "metadata": {},
   "cell_type": "markdown",
   "source": ""
  }
 ],
 "metadata": {
  "kernelspec": {
   "display_name": "base",
   "language": "python",
   "name": "python3"
  },
  "language_info": {
   "codemirror_mode": {
    "name": "ipython",
    "version": 3
   },
   "file_extension": ".py",
   "mimetype": "text/x-python",
   "name": "python",
   "nbconvert_exporter": "python",
   "pygments_lexer": "ipython3",
   "version": "3.12.7"
  }
 },
 "nbformat": 4,
 "nbformat_minor": 2
}
